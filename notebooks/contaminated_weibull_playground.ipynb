{
 "cells": [
  {
   "cell_type": "code",
   "execution_count": 1,
   "id": "919c2288",
   "metadata": {},
   "outputs": [],
   "source": [
    "import numpy as np"
   ]
  },
  {
   "cell_type": "code",
   "execution_count": 2,
   "id": "bfb47afb",
   "metadata": {},
   "outputs": [],
   "source": [
    "import os"
   ]
  },
  {
   "cell_type": "code",
   "execution_count": null,
   "id": "ec138028",
   "metadata": {},
   "outputs": [
    {
     "name": "stdout",
     "output_type": "stream",
     "text": [
      "NPZ keys: ['samples']\n",
      "samples: shape=(20000, 2), dtype=float64\n"
     ]
    },
    {
     "data": {
      "text/plain": [
       "array([[7.89603206, 8.        ],\n",
       "       [7.89603206, 8.        ],\n",
       "       [7.89603206, 8.        ],\n",
       "       ...,\n",
       "       [7.89603206, 8.        ],\n",
       "       [7.89603206, 8.        ],\n",
       "       [7.89603206, 8.        ]], shape=(20000, 2))"
      ]
     },
     "execution_count": 7,
     "metadata": {},
     "output_type": "execute_result"
    }
   ],
   "source": [
    "from __future__ import annotations\n",
    "from pathlib import Path\n",
    "import numpy as np\n",
    "\n",
    "# Absolute path; or use Path(\"..\") / \"results\" / ... if you prefer relative\n",
    "path = Path(\n",
    "    \"/Users/ryankelly/python_projects/preconditioned-npe-under-misspecification/results/contaminated_weibull/pnpe_rs/th_k0.8_lam2.0-n_obs_200-obs_true-eps_0.05-n_sims_20000-q_0.2/seed-0/20250924-084424/posterior_samples.npz\"\n",
    ")\n",
    "if not path.exists():\n",
    "    raise FileNotFoundError(f\"File not found:\\n{path}\")\n",
    "\n",
    "with np.load(path, allow_pickle=False) as z:\n",
    "    keys = list(z.keys())\n",
    "    arrays = {k: z[k] for k in keys}\n",
    "\n",
    "print(\"NPZ keys:\", keys)\n",
    "for k, v in arrays.items():\n",
    "    print(f\"{k}: shape={v.shape}, dtype={v.dtype}\")\n",
    "\n",
    "arrays[\"samples\"]"
   ]
  },
  {
   "cell_type": "code",
   "execution_count": null,
   "id": "c1f8db7a",
   "metadata": {},
   "outputs": [],
   "source": []
  }
 ],
 "metadata": {
  "kernelspec": {
   "display_name": "preconditioned-npe-under-misspecification",
   "language": "python",
   "name": "python3"
  },
  "language_info": {
   "codemirror_mode": {
    "name": "ipython",
    "version": 3
   },
   "file_extension": ".py",
   "mimetype": "text/x-python",
   "name": "python",
   "nbconvert_exporter": "python",
   "pygments_lexer": "ipython3",
   "version": "3.13.5"
  }
 },
 "nbformat": 4,
 "nbformat_minor": 5
}
