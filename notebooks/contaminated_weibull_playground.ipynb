{
 "cells": [
  {
   "cell_type": "code",
   "execution_count": null,
   "id": "0",
   "metadata": {},
   "outputs": [],
   "source": [
    "import numpy as np"
   ]
  },
  {
   "cell_type": "code",
   "execution_count": null,
   "id": "1",
   "metadata": {},
   "outputs": [],
   "source": [
    "import os"
   ]
  },
  {
   "cell_type": "code",
   "execution_count": null,
   "id": "2",
   "metadata": {},
   "outputs": [],
   "source": [
    "from __future__ import annotations\n",
    "from pathlib import Path\n",
    "import numpy as np\n",
    "\n",
    "# Absolute path; or use Path(\"..\") / \"results\" / ... if you prefer relative\n",
    "path = Path(\n",
    "    \"/Users/ryankelly/python_projects/preconditioned-npe-under-misspecification/results/contaminated_weibull/pnpe_rs/th_k0.8_lam2.0-n_obs_200-obs_true-eps_0.05-n_sims_20000-q_0.2/seed-0/20250924-084424/posterior_samples.npz\"\n",
    ")\n",
    "if not path.exists():\n",
    "    raise FileNotFoundError(f\"File not found:\\n{path}\")\n",
    "\n",
    "with np.load(path, allow_pickle=False) as z:\n",
    "    keys = list(z.keys())\n",
    "    arrays = {k: z[k] for k in keys}\n",
    "\n",
    "print(\"NPZ keys:\", keys)\n",
    "for k, v in arrays.items():\n",
    "    print(f\"{k}: shape={v.shape}, dtype={v.dtype}\")\n",
    "\n",
    "arrays[\"samples\"]"
   ]
  },
  {
   "cell_type": "code",
   "execution_count": null,
   "id": "3",
   "metadata": {},
   "outputs": [],
   "source": []
  }
 ],
 "metadata": {
  "kernelspec": {
   "display_name": "preconditioned-npe-under-misspecification",
   "language": "python",
   "name": "python3"
  },
  "language_info": {
   "codemirror_mode": {
    "name": "ipython",
    "version": 3
   },
   "file_extension": ".py",
   "mimetype": "text/x-python",
   "name": "python",
   "nbconvert_exporter": "python",
   "pygments_lexer": "ipython3",
   "version": "3.13.5"
  }
 },
 "nbformat": 4,
 "nbformat_minor": 5
}
