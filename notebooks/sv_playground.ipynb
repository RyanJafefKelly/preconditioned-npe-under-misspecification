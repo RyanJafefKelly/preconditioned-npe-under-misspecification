{
 "cells": [
  {
   "cell_type": "code",
   "execution_count": null,
   "id": "0",
   "metadata": {},
   "outputs": [],
   "source": [
    "%pip install -e .\n",
    "from precond_npe_misspec.examples.stochastic_volatility import assumed_dgp, full_summaries, prior_sample, true_dgp"
   ]
  },
  {
   "cell_type": "code",
   "execution_count": null,
   "id": "1",
   "metadata": {},
   "outputs": [],
   "source": [
    "import jax.numpy as jnp\n",
    "import matplotlib.pyplot as plt\n",
    "from jax import random"
   ]
  },
  {
   "cell_type": "code",
   "execution_count": null,
   "id": "2",
   "metadata": {},
   "outputs": [],
   "source": [
    "key = random.key(1)\n",
    "theta_true = jnp.array([0.2, 10.0])\n",
    "T = 200"
   ]
  },
  {
   "cell_type": "code",
   "execution_count": null,
   "id": "3",
   "metadata": {},
   "outputs": [],
   "source": []
  },
  {
   "cell_type": "code",
   "execution_count": null,
   "id": "4",
   "metadata": {},
   "outputs": [],
   "source": [
    "for _ in range(100):\n",
    "    key, subkey = random.split(key)\n",
    "    # theta = prior_sample(subkey)\n",
    "    subkey, _ = random.split(subkey)\n",
    "    y = assumed_dgp(subkey, theta_true, T=T)\n",
    "    plt.plot(y, color=\"gray\", alpha=0.5)\n",
    "subkey, _ = random.split(subkey)\n",
    "true_y = true_dgp(subkey, theta_true, T=T, sigma_ms=0)\n",
    "plt.plot(true_y, color=\"red\")"
   ]
  },
  {
   "cell_type": "code",
   "execution_count": null,
   "id": "5",
   "metadata": {},
   "outputs": [],
   "source": [
    "for _ in range(100):\n",
    "    key, subkey = random.split(key)\n",
    "    theta = prior_sample(subkey)\n",
    "    subkey, _ = random.split(subkey)\n",
    "    y = assumed_dgp(subkey, theta, T=T)\n",
    "    plt.plot(y, color=\"gray\", alpha=0.5)\n",
    "subkey, _ = random.split(subkey)\n",
    "true_y = true_dgp(subkey, theta_true, T=T, sigma_ms=0)\n",
    "plt.plot(true_y, color=\"red\")"
   ]
  },
  {
   "cell_type": "code",
   "execution_count": null,
   "id": "6",
   "metadata": {},
   "outputs": [],
   "source": []
  },
  {
   "cell_type": "code",
   "execution_count": null,
   "id": "7",
   "metadata": {},
   "outputs": [],
   "source": [
    "y_obs = true_dgp(subkey, theta_true, T=T, sigma_ms=2)\n",
    "s_obs = full_summaries(y_obs)\n",
    "\n",
    "num_sims = 1000\n",
    "num_summaries = len(s_obs)\n",
    "s_all = jnp.zeros((num_sims, num_summaries))\n",
    "\n",
    "for j in range(1000):\n",
    "    key, subkey = random.split(key)\n",
    "    # theta = jnp.array([0.2, 10.0])\n",
    "    theta = prior_sample(subkey)\n",
    "    key, subkey = random.split(subkey)\n",
    "    y = assumed_dgp(subkey, theta, T=T)\n",
    "    s = full_summaries(y)\n",
    "    s_all = s_all.at[j, :].set(s)\n",
    "\n",
    "\n",
    "for i in range(len(s_obs)):\n",
    "    plt.hist(s_all[:, i], bins=30)\n",
    "    plt.plot(s_obs[i], 0.1, \"rx\", markersize=24)\n",
    "    plt.show()"
   ]
  },
  {
   "cell_type": "code",
   "execution_count": null,
   "id": "8",
   "metadata": {},
   "outputs": [],
   "source": []
  },
  {
   "cell_type": "code",
   "execution_count": null,
   "id": "9",
   "metadata": {},
   "outputs": [],
   "source": []
  }
 ],
 "metadata": {
  "kernelspec": {
   "display_name": "preconditioned-npe-under-misspecification",
   "language": "python",
   "name": "python3"
  },
  "language_info": {
   "codemirror_mode": {
    "name": "ipython",
    "version": 3
   },
   "file_extension": ".py",
   "mimetype": "text/x-python",
   "name": "python",
   "nbconvert_exporter": "python",
   "pygments_lexer": "ipython3",
   "version": "3.13.5"
  }
 },
 "nbformat": 4,
 "nbformat_minor": 5
}
